{
 "cells": [
  {
   "cell_type": "markdown",
   "metadata": {},
   "source": [
    "# Model Performance Evaluation\n",
    "Work for Masters Thesis\n",
    "\n",
    "Stanley Fujimoto"
   ]
  },
  {
   "cell_type": "code",
   "execution_count": 6,
   "metadata": {
    "collapsed": false
   },
   "outputs": [
    {
     "name": "stderr",
     "output_type": "stream",
     "text": [
      "/Users/masaki/software/scikit-learn/sklearn/cross_validation.py:43: DeprecationWarning: This module has been deprecated in favor of the model_selection module into which all the refactored classes and functions are moved. Also note that the interface of the new CV iterators are different from that of this module. This module will be removed in 0.20.\n",
      "  \"This module will be removed in 0.20.\", DeprecationWarning)\n"
     ]
    }
   ],
   "source": [
    "import pickle\n",
    "import pandas as pd\n",
    "from sklearn.linear_model import LogisticRegression\n",
    "from sklearn.neural_network import MLPClassifier\n",
    "from sklearn.svm import SVC\n",
    "from sklearn.svm import LinearSVC\n",
    "from sklearn.ensemble import RandomForestClassifier\n",
    "from sklearn.naive_bayes import MultinomialNB\n",
    "from sklearn.ensemble import BaggingClassifier\n",
    "from sklearn.cross_validation import train_test_split\n",
    "from sklearn.metrics import accuracy_score\n",
    "import matplotlib.pyplot as plt\n",
    "\n",
    "%matplotlib inline"
   ]
  },
  {
   "cell_type": "code",
   "execution_count": 8,
   "metadata": {
    "collapsed": false
   },
   "outputs": [],
   "source": [
    "available_features_str = \"aliscore,length,num_seqs,num_gaps,num_amino_acids,range,amino_acid_charged,amino_acid_uncharged,amino_acid_special,amino_acid_hydrophobic\"\n",
    "available_features = available_features_str.split( ',' )"
   ]
  },
  {
   "cell_type": "markdown",
   "metadata": {},
   "source": [
    "## Data Prep"
   ]
  },
  {
   "cell_type": "code",
   "execution_count": 9,
   "metadata": {
    "collapsed": false
   },
   "outputs": [],
   "source": [
    "# load data\n",
    "data = pickle.load( open( \"../data/featurized_data.pickle\", \"rb\" ) )\n",
    "features = data[ available_features ]\n",
    "labels = data[ \"class\" ]"
   ]
  },
  {
   "cell_type": "code",
   "execution_count": 10,
   "metadata": {
    "collapsed": false
   },
   "outputs": [
    {
     "data": {
      "text/html": [
       "<div>\n",
       "<table border=\"1\" class=\"dataframe\">\n",
       "  <thead>\n",
       "    <tr style=\"text-align: right;\">\n",
       "      <th></th>\n",
       "      <th>aliscore</th>\n",
       "      <th>length</th>\n",
       "      <th>num_seqs</th>\n",
       "      <th>num_gaps</th>\n",
       "      <th>num_amino_acids</th>\n",
       "      <th>range</th>\n",
       "      <th>amino_acid_charged</th>\n",
       "      <th>amino_acid_uncharged</th>\n",
       "      <th>amino_acid_special</th>\n",
       "      <th>amino_acid_hydrophobic</th>\n",
       "    </tr>\n",
       "  </thead>\n",
       "  <tbody>\n",
       "    <tr>\n",
       "      <th>0</th>\n",
       "      <td>299</td>\n",
       "      <td>448</td>\n",
       "      <td>87</td>\n",
       "      <td>28032</td>\n",
       "      <td>10944</td>\n",
       "      <td>60</td>\n",
       "      <td>6.490694</td>\n",
       "      <td>5.067389</td>\n",
       "      <td>4.222178</td>\n",
       "      <td>11.843168</td>\n",
       "    </tr>\n",
       "    <tr>\n",
       "      <th>1</th>\n",
       "      <td>182</td>\n",
       "      <td>331</td>\n",
       "      <td>76</td>\n",
       "      <td>12020</td>\n",
       "      <td>13136</td>\n",
       "      <td>59</td>\n",
       "      <td>5.273086</td>\n",
       "      <td>5.197975</td>\n",
       "      <td>3.442357</td>\n",
       "      <td>8.736644</td>\n",
       "    </tr>\n",
       "    <tr>\n",
       "      <th>2</th>\n",
       "      <td>543</td>\n",
       "      <td>956</td>\n",
       "      <td>94</td>\n",
       "      <td>48462</td>\n",
       "      <td>41402</td>\n",
       "      <td>60</td>\n",
       "      <td>21.572286</td>\n",
       "      <td>17.661384</td>\n",
       "      <td>17.679899</td>\n",
       "      <td>36.449060</td>\n",
       "    </tr>\n",
       "    <tr>\n",
       "      <th>3</th>\n",
       "      <td>388</td>\n",
       "      <td>623</td>\n",
       "      <td>84</td>\n",
       "      <td>30734</td>\n",
       "      <td>21598</td>\n",
       "      <td>60</td>\n",
       "      <td>15.442730</td>\n",
       "      <td>11.003807</td>\n",
       "      <td>6.451316</td>\n",
       "      <td>23.008377</td>\n",
       "    </tr>\n",
       "    <tr>\n",
       "      <th>4</th>\n",
       "      <td>162</td>\n",
       "      <td>260</td>\n",
       "      <td>77</td>\n",
       "      <td>13453</td>\n",
       "      <td>6567</td>\n",
       "      <td>60</td>\n",
       "      <td>3.231816</td>\n",
       "      <td>3.525321</td>\n",
       "      <td>1.757320</td>\n",
       "      <td>6.703005</td>\n",
       "    </tr>\n",
       "  </tbody>\n",
       "</table>\n",
       "</div>"
      ],
      "text/plain": [
       "   aliscore  length  num_seqs  num_gaps  num_amino_acids  range  \\\n",
       "0       299     448        87     28032            10944     60   \n",
       "1       182     331        76     12020            13136     59   \n",
       "2       543     956        94     48462            41402     60   \n",
       "3       388     623        84     30734            21598     60   \n",
       "4       162     260        77     13453             6567     60   \n",
       "\n",
       "   amino_acid_charged  amino_acid_uncharged  amino_acid_special  \\\n",
       "0            6.490694              5.067389            4.222178   \n",
       "1            5.273086              5.197975            3.442357   \n",
       "2           21.572286             17.661384           17.679899   \n",
       "3           15.442730             11.003807            6.451316   \n",
       "4            3.231816              3.525321            1.757320   \n",
       "\n",
       "   amino_acid_hydrophobic  \n",
       "0               11.843168  \n",
       "1                8.736644  \n",
       "2               36.449060  \n",
       "3               23.008377  \n",
       "4                6.703005  "
      ]
     },
     "execution_count": 10,
     "metadata": {},
     "output_type": "execute_result"
    }
   ],
   "source": [
    "features.head()\n"
   ]
  },
  {
   "cell_type": "code",
   "execution_count": 11,
   "metadata": {
    "collapsed": false
   },
   "outputs": [
    {
     "data": {
      "text/plain": [
       "0    H\n",
       "1    H\n",
       "2    H\n",
       "3    H\n",
       "4    H\n",
       "Name: class, dtype: object"
      ]
     },
     "execution_count": 11,
     "metadata": {},
     "output_type": "execute_result"
    }
   ],
   "source": [
    "labels.head()"
   ]
  },
  {
   "cell_type": "markdown",
   "metadata": {},
   "source": [
    "### split the data"
   ]
  },
  {
   "cell_type": "code",
   "execution_count": 12,
   "metadata": {
    "collapsed": true
   },
   "outputs": [],
   "source": [
    "x_train, x_test, y_train, y_test = train_test_split( features, labels, test_size = 0.2 )"
   ]
  },
  {
   "cell_type": "markdown",
   "metadata": {},
   "source": [
    "## Model Testing"
   ]
  },
  {
   "cell_type": "markdown",
   "metadata": {},
   "source": [
    "### SVM"
   ]
  },
  {
   "cell_type": "code",
   "execution_count": 13,
   "metadata": {
    "collapsed": false
   },
   "outputs": [
    {
     "data": {
      "text/plain": [
       "0.48501362397820164"
      ]
     },
     "execution_count": 13,
     "metadata": {},
     "output_type": "execute_result"
    }
   ],
   "source": [
    "svc = SVC()\n",
    "svc.fit( x_train, y_train )\n",
    "svc_preds = svc.predict( x_test )\n",
    "accuracy_score( svc_preds, y_test )"
   ]
  },
  {
   "cell_type": "code",
   "execution_count": 14,
   "metadata": {
    "collapsed": false
   },
   "outputs": [
    {
     "data": {
      "text/plain": [
       "0.88773841961852862"
      ]
     },
     "execution_count": 14,
     "metadata": {},
     "output_type": "execute_result"
    }
   ],
   "source": [
    "lsvc = LinearSVC()\n",
    "lsvc.fit( x_train, y_train )\n",
    "lsvc_preds = lsvc.predict( x_test )\n",
    "accuracy_score( lsvc_preds, y_test )"
   ]
  },
  {
   "cell_type": "markdown",
   "metadata": {},
   "source": [
    "### MLP"
   ]
  },
  {
   "cell_type": "code",
   "execution_count": 15,
   "metadata": {
    "collapsed": false
   },
   "outputs": [
    {
     "data": {
      "text/plain": [
       "0.82779291553133516"
      ]
     },
     "execution_count": 15,
     "metadata": {},
     "output_type": "execute_result"
    }
   ],
   "source": [
    "mlp = MLPClassifier()\n",
    "mlp.fit( x_train, y_train )\n",
    "mlp_preds = mlp.predict( x_test )\n",
    "accuracy_score( mlp_preds, y_test )"
   ]
  },
  {
   "cell_type": "markdown",
   "metadata": {},
   "source": [
    "### Logistic Regression"
   ]
  },
  {
   "cell_type": "code",
   "execution_count": 16,
   "metadata": {
    "collapsed": false
   },
   "outputs": [
    {
     "data": {
      "text/plain": [
       "0.96457765667574935"
      ]
     },
     "execution_count": 16,
     "metadata": {},
     "output_type": "execute_result"
    }
   ],
   "source": [
    "lr = LogisticRegression()\n",
    "lr.fit( x_train, y_train )\n",
    "lr_preds = lr.predict( x_test )\n",
    "accuracy_score( lr_preds, y_test )"
   ]
  },
  {
   "cell_type": "markdown",
   "metadata": {},
   "source": [
    "### Random Forest"
   ]
  },
  {
   "cell_type": "code",
   "execution_count": 17,
   "metadata": {
    "collapsed": false
   },
   "outputs": [
    {
     "data": {
      "text/plain": [
       "0.92643051771117169"
      ]
     },
     "execution_count": 17,
     "metadata": {},
     "output_type": "execute_result"
    }
   ],
   "source": [
    "rf = RandomForestClassifier()\n",
    "rf.fit( x_train, y_train )\n",
    "rf_preds = rf.predict( x_test )\n",
    "accuracy_score( rf_preds, y_test )"
   ]
  },
  {
   "cell_type": "markdown",
   "metadata": {},
   "source": [
    "### Naive Bayes"
   ]
  },
  {
   "cell_type": "code",
   "execution_count": 18,
   "metadata": {
    "collapsed": false
   },
   "outputs": [
    {
     "data": {
      "text/plain": [
       "0.69972752043596731"
      ]
     },
     "execution_count": 18,
     "metadata": {},
     "output_type": "execute_result"
    }
   ],
   "source": [
    "nb = MultinomialNB()\n",
    "nb.fit( x_train, y_train )\n",
    "nb_preds = nb.predict( x_test )\n",
    "accuracy_score( nb_preds, y_test )"
   ]
  },
  {
   "cell_type": "markdown",
   "metadata": {},
   "source": [
    "### Meta"
   ]
  },
  {
   "cell_type": "code",
   "execution_count": null,
   "metadata": {
    "collapsed": true
   },
   "outputs": [],
   "source": [
    "# code for meta classifier"
   ]
  },
  {
   "cell_type": "code",
   "execution_count": null,
   "metadata": {
    "collapsed": true
   },
   "outputs": [],
   "source": []
  }
 ],
 "metadata": {
  "kernelspec": {
   "display_name": "Python 2",
   "language": "python",
   "name": "python2"
  },
  "language_info": {
   "codemirror_mode": {
    "name": "ipython",
    "version": 2
   },
   "file_extension": ".py",
   "mimetype": "text/x-python",
   "name": "python",
   "nbconvert_exporter": "python",
   "pygments_lexer": "ipython2",
   "version": "2.7.11"
  }
 },
 "nbformat": 4,
 "nbformat_minor": 0
}
